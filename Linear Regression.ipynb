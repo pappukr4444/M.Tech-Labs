{
 "cells": [
  {
   "cell_type": "code",
   "execution_count": 18,
   "metadata": {},
   "outputs": [
    {
     "name": "stdout",
     "output_type": "stream",
     "text": [
      "1.4166666666666625 2.7500000000000013\n",
      "36.333333333333336 [ 4 30 75]\n"
     ]
    },
    {
     "data": {
      "image/png": "[encoded data removed]",
      "text/plain": [
       "<Figure size 432x288 with 1 Axes>"
      ]
     },
     "metadata": {},
     "output_type": "display_data"
    },
    {
     "name": "stdout",
     "output_type": "stream",
     "text": [
      "Pridicted =  [ 4.16666667  9.66666667 15.16666667]\n",
      "Error =  0.23570226039551626\n"
     ]
    }
   ],
   "source": [
    "import numpy as np\n",
    "import matplotlib.pyplot as plt\n",
    " \n",
    "def main():\n",
    "    #x = np.array([1,3,5])\n",
    "    #y = np.array([4,10,15])\n",
    "    \n",
    "    x = np.array([1,3,5])\n",
    "    y = np.array([4,10,15])\n",
    "    \n",
    "    n = np.size(x)\n",
    "    \n",
    "    xy = x * y\n",
    "    \n",
    "    xymean = np.mean(xy)\n",
    " \n",
    "   \n",
    "    xmean, ymean = np.mean(x), np.mean(y)\n",
    "    \n",
    "    xmean_ymean = xmean * ymean\n",
    "    \n",
    "    xsquare = x * x\n",
    "    \n",
    "    xsquaremean = np.mean(xsquare)\n",
    "    \n",
    "    xmeansquare = xmean * xmean\n",
    "    \n",
    "    b1 = ((xymean - xmean_ymean)/(xsquaremean - xmeansquare) )\n",
    "    \n",
    "    b0 = (ymean - b1 * xmean)\n",
    "    \n",
    "    print(b0, b1)\n",
    "    print(xymean,xy)\n",
    "    plt.scatter(x, y, color = \"m\",marker = \"o\")\n",
    "    y_pred = b0 + b1*x\n",
    "    plt.plot(x, y_pred, color = \"g\")\n",
    "    \n",
    "    #ypridict = []\n",
    "    \n",
    "    \n",
    "    for i in range(len(x)):\n",
    "        ypridict = np.array(b0 + b1 * x)\n",
    "        plt.scatter(x, ypridict, color = \"b\",marker = \"^\")\n",
    "        \n",
    "    plt.xlabel('x')\n",
    "    plt.ylabel('y')\n",
    "    plt.show()\n",
    "    \n",
    "    \n",
    "    for j in range(len(y)):\n",
    "        #RMSE = np.sqrt( sum( (ypridict - y)^2 )/n )\n",
    "        \n",
    "        error = (ypridict - y)\n",
    "        \n",
    "    errorsquare = error * error\n",
    "    #errorsquaresum = np.sum(errorsquare)\n",
    "    \n",
    "    errorsquaremean = np.mean(errorsquare)\n",
    "    \n",
    "    errorfinal = np.sqrt(errorsquaremean)\n",
    "    \n",
    "    \n",
    "        \n",
    "    #print(ypridict)\n",
    "    \n",
    "    #print(error)\n",
    "    #print(errorsquare)\n",
    "    #print(errorsquaremean)\n",
    "    print(\"Pridicted = \",ypridict)\n",
    "    print(\"Error = \",errorfinal)\n",
    "    \n",
    "        \n",
    "    \n",
    "    \n",
    "    \n",
    "    \n",
    "   \n",
    "\n",
    "if __name__ == \"__main__\":\n",
    "    main()"
   ]
  },
  {
   "cell_type": "code",
   "execution_count": null,
   "metadata": {},
   "outputs": [],
   "source": []
  }
 ],
 "metadata": {
  "kernelspec": {
   "display_name": "Python 3",
   "language": "python",
   "name": "python3"
  },
  "language_info": {
   "codemirror_mode": {
    "name": "ipython",
    "version": 3
   },
   "file_extension": ".py",
   "mimetype": "text/x-python",
   "name": "python",
   "nbconvert_exporter": "python",
   "pygments_lexer": "ipython3",
   "version": "3.6.5"
  }
 },
 "nbformat": 4,
 "nbformat_minor": 2
}
