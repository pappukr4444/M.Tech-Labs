{
 "cells": [
  {
   "cell_type": "code",
   "execution_count": 1,
   "metadata": {},
   "outputs": [
    {
     "name": "stdout",
     "output_type": "stream",
     "text": [
      "[0. 0. 1.]\n",
      "[-1.  0.  0.]\n",
      "[-1.  0.  1.]\n"
     ]
    },
    {
     "name": "stderr",
     "output_type": "stream",
     "text": [
      "/srv/conda/lib/python3.6/site-packages/ipykernel_launcher.py:40: RuntimeWarning: invalid value encountered in double_scalars\n",
      "/srv/conda/lib/python3.6/site-packages/ipykernel_launcher.py:40: RuntimeWarning: divide by zero encountered in double_scalars\n"
     ]
    },
    {
     "name": "stdout",
     "output_type": "stream",
     "text": [
      "[-2.  0.  0.]\n",
      "[-2.  0.  1.]\n",
      "[-2.  0.  1.]\n"
     ]
    },
    {
     "data": {
      "text/plain": [
       "[<mpl_toolkits.mplot3d.art3d.Line3D at 0x7f6323c8ab70>]"
      ]
     },
     "execution_count": 1,
     "metadata": {},
     "output_type": "execute_result"
    }
   ],
   "source": [
    "import numpy as np\n",
    "import matplotlib.pyplot as plt\n",
    "\n",
    "#import matplotlib.pyplot as plt\n",
    "from mpl_toolkits.mplot3d import axes3d, Axes3D\n",
    "plt.style.use('seaborn-whitegrid')\n",
    "#%matplotlib inline\n",
    "a = np.linspace(-1,5,1000)\n",
    "\n",
    "X = np.array([\n",
    "    [0,0, 1],\n",
    "    [0,1, 1],\n",
    "    [1, 0, 1],\n",
    "    [1, 1, 1],\n",
    "\n",
    "])\n",
    "\n",
    "y = np.array([1,1,-1,-1])\n",
    "\n",
    "def perceptron_sgd(X, Y):\n",
    "    w = np.zeros(len(X[0]))\n",
    "    eta = 1\n",
    "    epochs = 20\n",
    "    if (w[0]==w[1]==w[2]==0):\n",
    "        plt.plot(a,0*a,linestyle='solid')\n",
    "    for t in range(epochs):\n",
    "        for i, x in enumerate(X):\n",
    "            if (np.dot(X[i], w)*Y[i]) <= 0:\n",
    "                w = w + eta*X[i]*Y[i]\n",
    "                print(w)\n",
    "                plt.plot([0,0], [0,1], 'r^')\n",
    "                plt.plot([1,1], [0,1], 'g*')\n",
    "                #plt.figure()\n",
    "                \n",
    "                fig = plt.figure()\n",
    "                \n",
    "\n",
    "                ax = plt.axes(projection='3d')\n",
    "                ax = Axes3D(fig)\n",
    "                plt.plot((w[1]/w[0])*a-(w[2]/w[0]),a,linestyle='dashed')\n",
    "                \n",
    "\n",
    "    return w\n",
    "\n",
    "w = perceptron_sgd(X,y)\n",
    "print(w)\n",
    "\n",
    "plt.plot([0,0], [0,1], 'r^')\n",
    "plt.plot([1,1], [0,1], 'g*')\n",
    "\n"
   ]
  },
  {
   "cell_type": "code",
   "execution_count": null,
   "metadata": {},
   "outputs": [],
   "source": []
  }
 ],
 "metadata": {
  "kernelspec": {
   "display_name": "Python 3",
   "language": "python",
   "name": "python3"
  },
  "language_info": {
   "codemirror_mode": {
    "name": "ipython",
    "version": 3
   },
   "file_extension": ".py",
   "mimetype": "text/x-python",
   "name": "python",
   "nbconvert_exporter": "python",
   "pygments_lexer": "ipython3",
   "version": "3.6.5"
  }
 },
 "nbformat": 4,
 "nbformat_minor": 2
}
